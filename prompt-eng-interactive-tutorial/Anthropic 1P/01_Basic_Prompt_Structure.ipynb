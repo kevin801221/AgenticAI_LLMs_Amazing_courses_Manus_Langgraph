{
 "cells": [
  {
   "cell_type": "markdown",
   "metadata": {},
   "source": [
    "# Chapter 1: Basic Prompt Structure\n",
    "\n",
    "- [Lesson](#lesson)\n",
    "- [Exercises](#exercises)\n",
    "- [Example Playground](#example-playground)\n",
    "\n",
    "## Setup\n",
    "\n",
    "Run the following setup cell to load your API key and establish the `get_completion` helper function."
   ]
  },
  {
   "cell_type": "code",
   "execution_count": null,
   "metadata": {},
   "outputs": [],
   "source": [
    "!pip install anthropic\n",
    "\n",
    "# Import python's built-in regular expression library\n",
    "import re\n",
    "import anthropic\n",
    "\n",
    "# Retrieve the API_KEY & MODEL_NAME variables from the IPython store\n",
    "%store -r API_KEY\n",
    "%store -r MODEL_NAME\n",
    "\n",
    "client = anthropic.Anthropic(api_key=API_KEY)\n",
    "\n",
    "def get_completion(prompt: str, system_prompt=\"\"):\n",
    "    message = client.messages.create(\n",
    "        model=MODEL_NAME,\n",
    "        max_tokens=2000,\n",
    "        temperature=0.0,\n",
    "        system=system_prompt,\n",
    "        messages=[\n",
    "          {\"role\": \"user\", \"content\": prompt}\n",
    "        ]\n",
    "    )\n",
    "    return message.content[0].text"
   ]
  },
  {
   "cell_type": "markdown",
   "metadata": {},
   "source": [
    "## \u8ab2\u7a0b\n",
    "\n",
    "Anthropic \u63d0\u4f9b\u5169\u7a2e API\uff0c\u5206\u5225\u662f\u820a\u7248\u7684 [\u6587\u5b57\u88dc\u5168 API](https://docs.anthropic.com/claude/reference/complete_post) \u548c\u76ee\u524d\u4f7f\u7528\u7684 [Messages API](https://docs.anthropic.com/claude/reference/messages_post)\u3002\u5728\u672c\u6559\u5b78\u4e2d\uff0c\u6211\u5011\u5c07\u5c08\u9580\u4f7f\u7528 Messages API\u3002\n",
    "\n",
    "### \u57fa\u672c\u53c3\u6578\n",
    "\n",
    "\u81f3\u5c11\uff0c\u9700\u8981\u4ee5\u4e0b\u53c3\u6578\u4f86\u8abf\u7528 Claude \u7684 Messages API\uff1a\n",
    "\n",
    "- `model`\uff1a\u4f60\u60f3\u8981\u8abf\u7528\u7684 [API \u6a21\u578b\u540d\u7a31](https://docs.anthropic.com/claude/docs/models-overview#model-recommendations)\u3002\n",
    "\n",
    "- `max_tokens`\uff1a\u751f\u6210\u7684\u6700\u5927 token \u6578\u91cf\uff0cClaude \u53ef\u80fd\u5728\u9054\u5230\u6b64\u4e0a\u9650\u524d\u5c31\u505c\u6b62\u3002\u6b64\u53c3\u6578\u50c5\u6307\u5b9a\u7d55\u5c0d\u7684\u6700\u5927 token \u6578\u91cf\uff0c\u4e26\u4e14\u9019\u662f\u4e00\u500b *\u786c\u6027* \u9650\u5236\uff0c\u53ef\u80fd\u5c0e\u81f4 Claude \u5728\u55ae\u5b57\u6216\u53e5\u5b50\u4e2d\u9014\u505c\u6b62\u3002\n",
    "\n",
    "- `messages`\uff1a\u8f38\u5165\u8a0a\u606f\u7684\u9663\u5217\u3002\u6211\u5011\u7684\u6a21\u578b\u8a13\u7df4\u65b9\u5f0f\u662f\u57fa\u65bc `user` \u548c `assistant` \u4e4b\u9593\u7684\u5c0d\u8a71\u56de\u5408\u4ea4\u66ff\u9032\u884c\u3002\u5728\u5efa\u7acb\u65b0\u7684 `Message` \u6642\uff0c\u4f60\u9700\u8981\u4f7f\u7528 `messages` \u53c3\u6578\u4f86\u63d0\u4f9b\u524d\u9762\u7684\u5c0d\u8a71\u5167\u5bb9\uff0c\u6a21\u578b\u5c07\u57fa\u65bc\u9019\u4e9b\u5167\u5bb9\u751f\u6210\u4e0b\u4e00\u500b `Message`\u3002\n",
    "  - \u6bcf\u689d\u8f38\u5165\u8a0a\u606f\u5fc5\u9808\u662f\u4e00\u500b\u5305\u542b `role` \u548c `content` \u7684\u7269\u4ef6\u3002\u4f60\u53ef\u4ee5\u53ea\u63d0\u4f9b\u4e00\u689d `user` \u89d2\u8272\u7684\u8a0a\u606f\uff0c\u6216\u662f\u5305\u542b\u591a\u689d `user` \u548c `assistant` \u8a0a\u606f\uff08\u9019\u4e9b\u8a0a\u606f\u5fc5\u9808\u4ea4\u66ff\uff09\u3002\u7b2c\u4e00\u689d\u8a0a\u606f\u5fc5\u9808\u662f `user` \u89d2\u8272\u3002\n",
    "\n",
    "### \u9078\u7528\u53c3\u6578\n",
    "\n",
    "\u9664\u4e86\u57fa\u672c\u53c3\u6578\uff0c\u9084\u6709\u4e00\u4e9b\u53ef\u9078\u53c3\u6578\uff0c\u4f8b\u5982\uff1a\n",
    "\n",
    "- `system`\uff1a\u7cfb\u7d71\u63d0\u793a\u8a5e\uff08\u8a73\u898b\u4e0b\u6587\uff09\u3002\n",
    "\n",
    "- `temperature`\uff1a\u63a7\u5236 Claude \u56de\u61c9\u7684\u96a8\u6a5f\u6027\u3002\u5728\u672c\u8ab2\u7a0b\u8207\u7df4\u7fd2\u4e2d\uff0c`temperature` \u8a2d\u5b9a\u70ba 0\u3002\n",
    "\n",
    "\u82e5\u8981\u67e5\u770b\u6240\u6709 API \u53c3\u6578\u7684\u5b8c\u6574\u5217\u8868\uff0c\u8acb\u53c3\u95b1\u6211\u5011\u7684 [API \u6587\u4ef6](https://docs.anthropic.com/claude/reference/messages_post)\u3002"
   ]
  },
  {
   "cell_type": "markdown",
   "metadata": {},
   "source": [
    "### Examples\n",
    "\n",
    "Let's take a look at how Claude responds to some correctly-formatted prompts. For each of the following cells, run the cell (`shift+enter`), and Claude's response will appear below the block."
   ]
  },
  {
   "cell_type": "code",
   "execution_count": null,
   "metadata": {},
   "outputs": [],
   "source": [
    "# Prompt\n",
    "PROMPT = \"Hi Claude, how are you?\"\n",
    "\n",
    "# Print Claude's response\n",
    "print(get_completion(PROMPT))"
   ]
  },
  {
   "cell_type": "code",
   "execution_count": null,
   "metadata": {},
   "outputs": [],
   "source": [
    "# Prompt\n",
    "PROMPT = \"Can you tell me the color of the ocean?\"\n",
    "\n",
    "# Print Claude's response\n",
    "print(get_completion(PROMPT))"
   ]
  },
  {
   "cell_type": "code",
   "execution_count": null,
   "metadata": {},
   "outputs": [],
   "source": [
    "# Prompt\n",
    "PROMPT = \"What year was Celine Dion born in?\"\n",
    "\n",
    "# Print Claude's response\n",
    "print(get_completion(PROMPT))"
   ]
  },
  {
   "cell_type": "markdown",
   "metadata": {},
   "source": [
    "\u73fe\u5728\u8b93\u6211\u5011\u4f86\u770b\u770b\u4e00\u4e9b\u6c92\u6709\u6b63\u78ba\u4f7f\u7528 Messages API \u683c\u5f0f\u7684\u63d0\u793a\u8a5e\u3002\u5c0d\u65bc\u9019\u4e9b\u683c\u5f0f\u932f\u8aa4\u7684\u63d0\u793a\u8a5e\uff0cMessages API \u6703\u8fd4\u56de\u932f\u8aa4\u3002\n",
    "\n",
    "\u9996\u5148\uff0c\u6211\u5011\u6709\u4e00\u500b Messages API \u547c\u53eb\u7bc4\u4f8b\uff0c\u5176\u4e2d `messages` \u9663\u5217\u7f3a\u5c11 `role` \u548c `content` \u6b04\u4f4d\u3002"
   ]
  },
  {
   "cell_type": "code",
   "execution_count": null,
   "metadata": {},
   "outputs": [],
   "source": [
    "# Get Claude's response\n",
    "response = client.messages.create(\n",
    "        model=MODEL_NAME,\n",
    "        max_tokens=2000,\n",
    "        temperature=0.0,\n",
    "        messages=[\n",
    "          {\"Hi Claude, how are you?\"}\n",
    "        ]\n",
    "    )\n",
    "\n",
    "# Print Claude's response\n",
    "print(response[0].text)"
   ]
  },
  {
   "cell_type": "markdown",
   "metadata": {},
   "source": [
    "Here's a prompt that fails to alternate between the `user` and `assistant` roles."
   ]
  },
  {
   "cell_type": "code",
   "execution_count": null,
   "metadata": {},
   "outputs": [],
   "source": [
    "# Get Claude's response\n",
    "response = client.messages.create(\n",
    "        model=MODEL_NAME,\n",
    "        max_tokens=2000,\n",
    "        temperature=0.0,\n",
    "        messages=[\n",
    "          {\"role\": \"user\", \"content\": \"What year was Celine Dion born in?\"},\n",
    "          {\"role\": \"user\", \"content\": \"Also, can you tell me some other facts about her?\"}\n",
    "        ]\n",
    "    )\n",
    "\n",
    "# Print Claude's response\n",
    "print(response[0].text)"
   ]
  },
  {
   "cell_type": "markdown",
   "metadata": {},
   "source": [
    "`user` \u548c `assistant` \u8a0a\u606f**\u5fc5\u9808\u4ea4\u66ff\u51fa\u73fe**\uff0c\u4e26\u4e14\u8a0a\u606f**\u5fc5\u9808\u4ee5 `user` \u56de\u5408\u958b\u59cb**\u3002\u5728\u4e00\u500b\u63d0\u793a\u4e2d\uff0c\u4f60\u53ef\u4ee5\u5305\u542b\u591a\u500b `user` \u548c `assistant` \u914d\u5c0d\uff08\u985e\u4f3c\u65bc\u6a21\u64ec\u591a\u8f2a\u5c0d\u8a71\uff09\u3002\u6b64\u5916\uff0c\u4f60\u4e5f\u53ef\u4ee5\u5728\u6700\u7d42\u7684 `assistant` \u8a0a\u606f\u4e2d\u8f38\u5165\u90e8\u5206\u6587\u5b57\uff0c\u8b93 Claude \u7e7c\u7e8c\u5f9e\u8a72\u8655\u63a5\u7e8c\uff08\u6211\u5011\u6703\u5728\u5f8c\u7e8c\u7ae0\u7bc0\u4e2d\u8a73\u7d30\u8a0e\u8ad6\uff09\u3002\n",
    "\n",
    "#### \u7cfb\u7d71\u63d0\u793a\u8a5e\uff08System Prompts\uff09\n",
    "\n",
    "\u4f60\u4e5f\u53ef\u4ee5\u4f7f\u7528**\u7cfb\u7d71\u63d0\u793a\u8a5e**\uff08System Prompt\uff09\u3002\u7cfb\u7d71\u63d0\u793a\u8a5e\u7528\u65bc**\u5411 Claude \u63d0\u4f9b\u4e0a\u4e0b\u6587\u3001\u6307\u793a\u548c\u6307\u5c0e**\uff0c\u7136\u5f8c\u518d\u8b93\u5b83\u56de\u7b54\u554f\u984c\u6216\u57f7\u884c\u4efb\u52d9\u3002\n",
    "\n",
    "\u5f9e\u7d50\u69cb\u4e0a\u4f86\u770b\uff0c\u7cfb\u7d71\u63d0\u793a\u8a5e\u662f\u7368\u7acb\u65bc `user` \u548c `assistant` \u8a0a\u606f\u5217\u8868\u7684\uff0c\u56e0\u6b64\u5b83\u61c9\u8a72\u653e\u5728\u4e00\u500b\u7368\u7acb\u7684 `system` \u53c3\u6578\u4e2d\uff08\u53ef\u4ee5\u53c3\u8003\u7b46\u8a18\u672c [Setup](#setup) \u7ae0\u7bc0\u4e2d\u7684 `get_completion` \u8f14\u52a9\u51fd\u5f0f\u7d50\u69cb\uff09\u3002\n",
    "\n",
    "\u5728\u672c\u6559\u5b78\u4e2d\uff0c\u7576\u6211\u5011\u9700\u8981\u4f7f\u7528\u7cfb\u7d71\u63d0\u793a\u8a5e\u6642\uff0c\u5df2\u7d93\u5728\u4f60\u7684\u88dc\u5168\u51fd\u5f0f\u4e2d\u63d0\u4f9b\u4e86 `system` \u6b04\u4f4d\u3002\u5982\u679c\u4f60\u4e0d\u60f3\u4f7f\u7528\u7cfb\u7d71\u63d0\u793a\u8a5e\uff0c\u53ea\u9700\u5c07 `SYSTEM_PROMPT` \u8b8a\u6578\u8a2d\u70ba\u7a7a\u5b57\u4e32\u5373\u53ef\u3002"
   ]
  },
  {
   "cell_type": "markdown",
   "metadata": {},
   "source": [
    "#### System Prompt Example"
   ]
  },
  {
   "cell_type": "code",
   "execution_count": null,
   "metadata": {},
   "outputs": [],
   "source": [
    "# System prompt\n",
    "SYSTEM_PROMPT = \"Your answer should always be a series of critical thinking questions that further the conversation (do not provide answers to your questions). Do not actually answer the user question.\"\n",
    "\n",
    "# Prompt\n",
    "PROMPT = \"Why is the sky blue?\"\n",
    "\n",
    "# Print Claude's response\n",
    "print(get_completion(PROMPT, SYSTEM_PROMPT))"
   ]
  },
  {
   "cell_type": "markdown",
   "metadata": {},
   "source": [
    "### \u70ba\u4ec0\u9ebc\u8981\u4f7f\u7528\u7cfb\u7d71\u63d0\u793a\u8a5e\uff1f\n",
    "\n",
    "\u4e00\u500b**\u64b0\u5beb\u826f\u597d\u7684\u7cfb\u7d71\u63d0\u793a\u8a5e\u53ef\u4ee5\u986f\u8457\u63d0\u5347 Claude \u7684\u8868\u73fe**\uff0c\u4f8b\u5982\u589e\u5f37 Claude \u9075\u5faa\u898f\u5247\u8207\u6307\u793a\u7684\u80fd\u529b\u3002\u82e5\u60f3\u6df1\u5165\u4e86\u89e3\uff0c\u8acb\u53c3\u95b1\u6211\u5011\u7684\u6587\u4ef6\uff1a[\u5982\u4f55\u4f7f\u7528\u7cfb\u7d71\u63d0\u793a\u8a5e](https://docs.anthropic.com/claude/docs/how-to-use-system-prompts)\u3002\n",
    "\n",
    "### \u9032\u5165\u7df4\u7fd2\n",
    "\n",
    "\u73fe\u5728\uff0c\u6211\u5011\u5c07\u958b\u59cb\u4e00\u4e9b\u7df4\u7fd2\u3002\u5982\u679c\u4f60\u5e0c\u671b\u5728\u4e0d\u66f4\u6539\u4e0a\u8ff0\u5167\u5bb9\u7684\u60c5\u6cc1\u4e0b\u5be6\u9a57\u8ab2\u7a0b\u4e2d\u7684\u63d0\u793a\u8a5e\uff0c\u8acb\u6efe\u52d5\u81f3\u8ab2\u7a0b\u7b46\u8a18\u672c\u7684\u6700\u5e95\u90e8\uff0c\u524d\u5f80 [**\u7bc4\u4f8b\u904a\u6a02\u5834**](#example-playground)\u3002"
   ]
  },
  {
   "cell_type": "markdown",
   "metadata": {},
   "source": [
    "---\n",
    "\n",
    "## Exercises\n",
    "- [Exercise 1.1 - Counting to Three](#exercise-11---counting-to-three)\n",
    "- [Exercise 1.2 - System Prompt](#exercise-12---system-prompt)"
   ]
  },
  {
   "cell_type": "markdown",
   "metadata": {},
   "source": [
    "### \u7df4\u7fd2 1.1 - \u6578\u5230\u4e09\n",
    "\n",
    "\u8acb\u4f7f\u7528\u6b63\u78ba\u7684 `user` / `assistant` \u683c\u5f0f\uff0c\u4fee\u6539\u4ee5\u4e0b `PROMPT` \u4f86\u8b93 Claude **\u6578\u5230\u4e09**\u3002\u8f38\u51fa\u7d50\u679c\u5c07\u986f\u793a\u4f60\u7684\u89e3\u6cd5\u662f\u5426\u6b63\u78ba\u3002"
   ]
  },
  {
   "cell_type": "code",
   "execution_count": null,
   "metadata": {},
   "outputs": [],
   "source": [
    "# Prompt - this is the only field you should change\n",
    "PROMPT = \"[Replace this text]\"\n",
    "\n",
    "# Get Claude's response\n",
    "response = get_completion(PROMPT)\n",
    "\n",
    "# Function to grade exercise correctness\n",
    "def grade_exercise(text):\n",
    "    pattern = re.compile(r'^(?=.*1)(?=.*2)(?=.*3).*$', re.DOTALL)\n",
    "    return bool(pattern.match(text))\n",
    "\n",
    "# Print Claude's response and the corresponding grade\n",
    "print(response)\n",
    "print(\"\\n--------------------------- GRADING ---------------------------\")\n",
    "print(\"This exercise has been correctly solved:\", grade_exercise(response))"
   ]
  },
  {
   "cell_type": "markdown",
   "metadata": {},
   "source": [
    "\u2753 If you want a hint, run the cell below!"
   ]
  },
  {
   "cell_type": "code",
   "execution_count": null,
   "metadata": {},
   "outputs": [],
   "source": [
    "from hints import exercise_1_1_hint; print(exercise_1_1_hint)"
   ]
  },
  {
   "cell_type": "markdown",
   "metadata": {},
   "source": [
    "### Exercise 1.2 - System Prompt\n",
    "\n",
    "Modify the `SYSTEM_PROMPT` to make Claude respond like it's a 3 year old child."
   ]
  },
  {
   "cell_type": "code",
   "execution_count": null,
   "metadata": {},
   "outputs": [],
   "source": [
    "# System prompt - this is the only field you should change\n",
    "SYSTEM_PROMPT = \"[Replace this text]\"\n",
    "\n",
    "# Prompt\n",
    "PROMPT = \"How big is the sky?\"\n",
    "\n",
    "# Get Claude's response\n",
    "response = get_completion(PROMPT, SYSTEM_PROMPT)\n",
    "\n",
    "# Function to grade exercise correctness\n",
    "def grade_exercise(text):\n",
    "    return bool(re.search(r\"giggles\", text) or re.search(r\"soo\", text))\n",
    "\n",
    "# Print Claude's response and the corresponding grade\n",
    "print(response)\n",
    "print(\"\\n--------------------------- GRADING ---------------------------\")\n",
    "print(\"This exercise has been correctly solved:\", grade_exercise(response))"
   ]
  },
  {
   "cell_type": "markdown",
   "metadata": {},
   "source": [
    "\u2753 If you want a hint, run the cell below!"
   ]
  },
  {
   "cell_type": "code",
   "execution_count": null,
   "metadata": {},
   "outputs": [],
   "source": [
    "from hints import exercise_1_2_hint; print(exercise_1_2_hint)"
   ]
  },
  {
   "cell_type": "markdown",
   "metadata": {},
   "source": [
    "### Congrats!\n",
    "\n",
    "If you've solved all exercises up until this point, you're ready to move to the next chapter. Happy prompting!"
   ]
  },
  {
   "cell_type": "markdown",
   "metadata": {},
   "source": [
    "---\n",
    "\n",
    "## Example Playground\n",
    "\n",
    "This is an area for you to experiment freely with the prompt examples shown in this lesson and tweak prompts to see how it may affect Claude's responses."
   ]
  },
  {
   "cell_type": "code",
   "execution_count": null,
   "metadata": {},
   "outputs": [],
   "source": [
    "# Prompt\n",
    "PROMPT = \"Hi Claude, how are you?\"\n",
    "\n",
    "# Print Claude's response\n",
    "print(get_completion(PROMPT))"
   ]
  },
  {
   "cell_type": "code",
   "execution_count": null,
   "metadata": {},
   "outputs": [],
   "source": [
    "# Prompt\n",
    "PROMPT = \"Can you tell me the color of the ocean?\"\n",
    "\n",
    "# Print Claude's response\n",
    "print(get_completion(PROMPT))"
   ]
  },
  {
   "cell_type": "code",
   "execution_count": null,
   "metadata": {},
   "outputs": [],
   "source": [
    "# Prompt\n",
    "PROMPT = \"What year was Celine Dion born in?\"\n",
    "\n",
    "# Print Claude's response\n",
    "print(get_completion(PROMPT))"
   ]
  },
  {
   "cell_type": "code",
   "execution_count": null,
   "metadata": {},
   "outputs": [],
   "source": [
    "# Get Claude's response\n",
    "response = client.messages.create(\n",
    "        model=MODEL_NAME,\n",
    "        max_tokens=2000,\n",
    "        temperature=0.0,\n",
    "        messages=[\n",
    "          {\"Hi Claude, how are you?\"}\n",
    "        ]\n",
    "    )\n",
    "\n",
    "# Print Claude's response\n",
    "print(response[0].text)"
   ]
  },
  {
   "cell_type": "code",
   "execution_count": null,
   "metadata": {},
   "outputs": [],
   "source": [
    "# Get Claude's response\n",
    "response = client.messages.create(\n",
    "        model=MODEL_NAME,\n",
    "        max_tokens=2000,\n",
    "        temperature=0.0,\n",
    "        messages=[\n",
    "          {\"role\": \"user\", \"content\": \"What year was Celine Dion born in?\"},\n",
    "          {\"role\": \"user\", \"content\": \"Also, can you tell me some other facts about her?\"}\n",
    "        ]\n",
    "    )\n",
    "\n",
    "# Print Claude's response\n",
    "print(response[0].text)"
   ]
  },
  {
   "cell_type": "code",
   "execution_count": null,
   "metadata": {},
   "outputs": [],
   "source": [
    "# System prompt\n",
    "SYSTEM_PROMPT = \"Your answer should always be a series of critical thinking questions that further the conversation (do not provide answers to your questions). Do not actually answer the user question.\"\n",
    "\n",
    "# Prompt\n",
    "PROMPT = \"Why is the sky blue?\"\n",
    "\n",
    "# Print Claude's response\n",
    "print(get_completion(PROMPT, SYSTEM_PROMPT))"
   ]
  }
 ],
 "metadata": {
  "language_info": {
   "name": "python"
  }
 },
 "nbformat": 4,
 "nbformat_minor": 2
}